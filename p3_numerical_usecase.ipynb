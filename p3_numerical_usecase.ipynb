{
 "cells": [
  {
   "cell_type": "code",
   "execution_count": 1,
   "metadata": {},
   "outputs": [],
   "source": [
    "from builtins import (super)\n",
    "import numpy as np\n",
    "import pylab"
   ]
  },
  {
   "cell_type": "code",
   "execution_count": 2,
   "metadata": {},
   "outputs": [],
   "source": [
    "class BaseClass(object):\n",
    "    \"\"\"\n",
    "    define the class interfaces\n",
    "    \"\"\" \n",
    "    def __init__(self):\n",
    "        \"\"\"\n",
    "        This method is called the constructor and gets called when the class is instantiated.  Commonly use to initialise data members.\n",
    "        \"\"\"\n",
    "        self._x = None # single underscore in python, by convention, denotes a private member.  i.e. not supposed to be accessed directly\n",
    "        self._y = None\n",
    "        \n",
    "    def set_x(self, x):\n",
    "        \"\"\"\n",
    "        Setter method for _x.  We can intercept the varialble assignments and do some checks.  And protection.\n",
    "        \"\"\"\n",
    "        if isinstance(x, (int, float, complex)):\n",
    "            self._x = x\n",
    "        else:\n",
    "            raise Exception('y is not a number')\n",
    "            \n",
    "    def set_y(self, y):\n",
    "        \"\"\"\n",
    "        Setter method for _x.  We can intercept the varialble assignments and do some checks.\n",
    "        \"\"\"\n",
    "        if isinstance(y, (int, float, complex)):\n",
    "            self._y = y\n",
    "        else:\n",
    "            raise Exception('y is not a number')\n",
    "                \n",
    "\n",
    "    def get_x(self):\n",
    "        \"\"\"\n",
    "        Accessor method for _x\n",
    "        \n",
    "        :return: \n",
    "        \"\"\"\n",
    "        return self._x\n",
    "    \n",
    "    def get_y(self):\n",
    "        \"\"\"\n",
    "        Accessor method for _y\n",
    "        \n",
    "        :return: \n",
    "        \"\"\"\n",
    "        return self._y"
   ]
  },
  {
   "cell_type": "code",
   "execution_count": 3,
   "metadata": {},
   "outputs": [],
   "source": [
    "class DerivedClass(BaseClass):\n",
    "    \"\"\"\n",
    "    This class will inherit the base_class methods and data members.\n",
    "    \n",
    "    \"\"\"\n",
    "    def __init__(self, x=0, y=0):\n",
    "        self._x = x\n",
    "        self._y = y"
   ]
  },
  {
   "cell_type": "code",
   "execution_count": 4,
   "metadata": {},
   "outputs": [],
   "source": [
    "a = DerivedClass()"
   ]
  },
  {
   "cell_type": "code",
   "execution_count": 5,
   "metadata": {},
   "outputs": [
    {
     "data": {
      "text/plain": [
       "0"
      ]
     },
     "execution_count": 5,
     "metadata": {},
     "output_type": "execute_result"
    }
   ],
   "source": [
    "a.get_x()"
   ]
  },
  {
   "cell_type": "code",
   "execution_count": 6,
   "metadata": {},
   "outputs": [
    {
     "data": {
      "text/plain": [
       "2.2"
      ]
     },
     "execution_count": 6,
     "metadata": {},
     "output_type": "execute_result"
    }
   ],
   "source": [
    "b = DerivedClass(x = 2.2)\n",
    "b.get_x()"
   ]
  },
  {
   "cell_type": "code",
   "execution_count": 7,
   "metadata": {},
   "outputs": [
    {
     "data": {
      "text/plain": [
       "4.2"
      ]
     },
     "execution_count": 7,
     "metadata": {},
     "output_type": "execute_result"
    }
   ],
   "source": [
    "a.set_x(4.2)\n",
    "a.get_x()"
   ]
  },
  {
   "cell_type": "code",
   "execution_count": 8,
   "metadata": {},
   "outputs": [
    {
     "ename": "Exception",
     "evalue": "y is not a number",
     "output_type": "error",
     "traceback": [
      "\u001b[0;31m---------------------------------------------------------------------------\u001b[0m",
      "\u001b[0;31mException\u001b[0m                                 Traceback (most recent call last)",
      "\u001b[0;32m<ipython-input-8-27456e146ec2>\u001b[0m in \u001b[0;36m<module>\u001b[0;34m()\u001b[0m\n\u001b[0;32m----> 1\u001b[0;31m \u001b[0mb\u001b[0m\u001b[0;34m.\u001b[0m\u001b[0mset_x\u001b[0m\u001b[0;34m(\u001b[0m\u001b[0;34m'3'\u001b[0m\u001b[0;34m)\u001b[0m\u001b[0;34m\u001b[0m\u001b[0m\n\u001b[0m",
      "\u001b[0;32m<ipython-input-2-f9c0630dcfc9>\u001b[0m in \u001b[0;36mset_x\u001b[0;34m(self, x)\u001b[0m\n\u001b[1;32m     17\u001b[0m             \u001b[0mself\u001b[0m\u001b[0;34m.\u001b[0m\u001b[0m_x\u001b[0m \u001b[0;34m=\u001b[0m \u001b[0mx\u001b[0m\u001b[0;34m\u001b[0m\u001b[0m\n\u001b[1;32m     18\u001b[0m         \u001b[0;32melse\u001b[0m\u001b[0;34m:\u001b[0m\u001b[0;34m\u001b[0m\u001b[0m\n\u001b[0;32m---> 19\u001b[0;31m             \u001b[0;32mraise\u001b[0m \u001b[0mException\u001b[0m\u001b[0;34m(\u001b[0m\u001b[0;34m'y is not a number'\u001b[0m\u001b[0;34m)\u001b[0m\u001b[0;34m\u001b[0m\u001b[0m\n\u001b[0m\u001b[1;32m     20\u001b[0m \u001b[0;34m\u001b[0m\u001b[0m\n\u001b[1;32m     21\u001b[0m     \u001b[0;32mdef\u001b[0m \u001b[0mset_y\u001b[0m\u001b[0;34m(\u001b[0m\u001b[0mself\u001b[0m\u001b[0;34m,\u001b[0m \u001b[0my\u001b[0m\u001b[0;34m)\u001b[0m\u001b[0;34m:\u001b[0m\u001b[0;34m\u001b[0m\u001b[0m\n",
      "\u001b[0;31mException\u001b[0m: y is not a number"
     ]
    }
   ],
   "source": [
    "b.set_x('3')"
   ]
  },
  {
   "cell_type": "code",
   "execution_count": 9,
   "metadata": {},
   "outputs": [],
   "source": [
    "class PolynomialClass(DerivedClass):\n",
    "    \"\"\"\n",
    "    A simple polynomial class for generating a number of poly nomial functions \n",
    "    of the form Ax^2 +Bx + C\n",
    "    \"\"\"\n",
    "    def __init__(self, A, B, C):   # x=0, y=0\n",
    "        \"\"\"\n",
    "        Class constructor\n",
    "        \"\"\"\n",
    "        super().__init__() # super() used with a non-newstyle class\n",
    "        self._A = A\n",
    "        self._B = B\n",
    "        self._C = C\n",
    "        \n",
    "    def run(self, x=0):\n",
    "        \"\"\"\n",
    "        Evaluate the function\n",
    "        \"\"\"\n",
    "        self._x = x\n",
    "        self._y = self._A * self._x**2 + self._B * self._x + self._C\n",
    "        return self._y\n",
    "\n",
    "    def error(self, guess):\n",
    "        \"\"\"\n",
    "        Find the absolute difference between evaluating the function and our guess for the function.\n",
    "        \"\"\"\n",
    "        \n",
    "        return abs(guess - self.run())"
   ]
  },
  {
   "cell_type": "code",
   "execution_count": 10,
   "metadata": {},
   "outputs": [],
   "source": [
    "a_poly = PolynomialClass(2, 3, 5)"
   ]
  },
  {
   "cell_type": "code",
   "execution_count": 11,
   "metadata": {},
   "outputs": [
    {
     "data": {
      "text/plain": [
       "array([ 10.        ,   8.29639889,   6.86980609,   5.72022161,\n",
       "         4.84764543,   4.25207756,   3.93351801,   3.89196676,\n",
       "         4.12742382,   4.6398892 ,   5.42936288,   6.49584488,\n",
       "         7.83933518,   9.4598338 ,  11.35734072,  13.53185596,\n",
       "        15.9833795 ,  18.71191136,  21.71745152,  25.        ])"
      ]
     },
     "execution_count": 11,
     "metadata": {},
     "output_type": "execute_result"
    }
   ],
   "source": [
    "a_poly.run(np.linspace(-2.5, 2.5, 20))"
   ]
  },
  {
   "cell_type": "markdown",
   "metadata": {},
   "source": [
    "Even though we have called run(), we can still get the internal state of our object using our accessor method."
   ]
  },
  {
   "cell_type": "code",
   "execution_count": 12,
   "metadata": {},
   "outputs": [
    {
     "data": {
      "text/plain": [
       "array([-2.5       , -2.23684211, -1.97368421, -1.71052632, -1.44736842,\n",
       "       -1.18421053, -0.92105263, -0.65789474, -0.39473684, -0.13157895,\n",
       "        0.13157895,  0.39473684,  0.65789474,  0.92105263,  1.18421053,\n",
       "        1.44736842,  1.71052632,  1.97368421,  2.23684211,  2.5       ])"
      ]
     },
     "execution_count": 12,
     "metadata": {},
     "output_type": "execute_result"
    }
   ],
   "source": [
    "a_poly.get_x()"
   ]
  },
  {
   "cell_type": "code",
   "execution_count": 13,
   "metadata": {},
   "outputs": [
    {
     "data": {
      "image/png": "[encoded data removed]",
      "text/plain": [
       "<matplotlib.figure.Figure at 0x7f0c6c692690>"
      ]
     },
     "metadata": {},
     "output_type": "display_data"
    }
   ],
   "source": [
    "pylab.plot(a_poly.get_x(), a_poly.get_y())\n",
    "pylab.show()"
   ]
  },
  {
   "cell_type": "code",
   "execution_count": 14,
   "metadata": {},
   "outputs": [],
   "source": [
    "class base_solver():\n",
    "    \"\"\"\n",
    "    A generic numerical solver\n",
    "    \"\"\"\n",
    "    \n",
    "    def __init__(self, learn_rate=0.00000001, max_iterations=10):\n",
    "        \"\"\"\n",
    "        Class constructor\n",
    "        \"\"\"\n",
    "        \n",
    "        #place holders.  we will append our updates values to check later. \n",
    "        self.guess = []  # no _ so we allow others to access these directly\n",
    "        self.err = []\n",
    "        self.max_iterations = max_iterations\n",
    "        \n",
    "        \n",
    "        if isinstance(init_guess, (int)):\n",
    "            self._learn_rate = learn_rate\n",
    "        else:\n",
    "            raise Exception('The initial guess is not a number')\n",
    "        \n",
    "            \n",
    "        if isinstance(init_guess, (int, float)):\n",
    "            self._learn_rate = learn_rate\n",
    "        else:\n",
    "            raise Exception('The initial guess is not a number')\n",
    "            \n",
    "    def solve(self, func, init_guess):\n",
    "        \"\"\"\n",
    "        This will be overridden.  We declare it in our base class to tell other developers this is what we expect to see.\n",
    "        \n",
    "        \"\"\"\n",
    "        if isinstance(init_guess, (int, float)):\n",
    "            self._init_guess = init_guess\n",
    "        else:\n",
    "            raise Exception('The initial guess is not a number')\n",
    "        \n",
    "    def dummy(self):\n",
    "        pass\n"
   ]
  },
  {
   "cell_type": "code",
   "execution_count": 34,
   "metadata": {},
   "outputs": [],
   "source": [
    "class newton_solve(base_solver):\n",
    "    \"\"\"\n",
    "    Dan hybrid Newton solver.\n",
    "    \n",
    "    https://en.wikipedia.org/wiki/Newton%27s_method\n",
    "    \n",
    "    \"\"\"\n",
    "    def __init__(self, learn_rate=0.00000001, max_iterations=200):\n",
    "        super.__init__()\n",
    "        \n",
    "        self.guess = []  # no _ so we allow others to access these directly\n",
    "        self.err = []\n",
    "        self.max_iterations = max_iterations\n",
    "        self.learn_rate = learn_rate\n",
    "    \n",
    "    def del_func(self, func, x):\n",
    "        \"\"\"\n",
    "        \n",
    "        \"\"\"\n",
    "        h = 0.0001\n",
    "        #del_f = (func.run(x + self.learn_rate) - func.run(x)) / self.learn_rate\n",
    "        del_f = (func.run(x + h) - func.run(x)) / h\n",
    "        \n",
    "        return del_f\n",
    "    \n",
    "    \n",
    "    def x_next(self, func, x):\n",
    "        \"\"\"\n",
    "        reutrn x+1 given x\n",
    "        \"\"\"\n",
    "        \n",
    "        x_n = x - func.run(x) / (self.del_func(func, x) + 0.00000000000000000001)\n",
    "        # x_n = self.learn_rate * self.del_func(func, x) \n",
    "        \n",
    "        return x_n\n",
    "        \n",
    "    \n",
    "    def solve(self, func, init_guess):\n",
    "        if isinstance(init_guess, (int, float)):\n",
    "            self._init_guess = init_guess\n",
    "        else:\n",
    "            raise Exception('The initial guess is not a number')\n",
    "            \n",
    "        self.guess.append(self._init_guess)\n",
    "            \n",
    "        #first guess\n",
    "        self.err.append(func.error(self._init_guess))\n",
    "        \n",
    "        for item in range(self.max_iterations):\n",
    "            self.guess.append(self.x_next(func, self.guess[item - 1]))\n",
    "            self.err.append(func.error(self.guess[item]))\n",
    "            \n",
    "            ### Check the difference between our errors.  are they getting smaller\n",
    "            diff_err = self.err[item] - self.err[item - 1]\n",
    "            \n",
    "            #if diff_err <= 0:  # we are getting smaller so reduce the learn rate\n",
    "                #self.learn_rate -= 0.0001\n",
    "                \n",
    "        return func.run(self.guess[-1])\n",
    "            \n",
    " "
   ]
  },
  {
   "cell_type": "code",
   "execution_count": 35,
   "metadata": {},
   "outputs": [],
   "source": [
    "dan_solver = newton_solve()\n"
   ]
  },
  {
   "cell_type": "code",
   "execution_count": 36,
   "metadata": {},
   "outputs": [
    {
     "data": {
      "text/plain": [
       "4.182036292652501"
      ]
     },
     "execution_count": 36,
     "metadata": {},
     "output_type": "execute_result"
    }
   ],
   "source": [
    "dan_solver.solve(a_poly, 0.0)"
   ]
  },
  {
   "cell_type": "code",
   "execution_count": 31,
   "metadata": {},
   "outputs": [
    {
     "data": {
      "text/plain": [
       "[[0.0,\n",
       "  -1.6665555629620945,\n",
       "  -1.6665555629620945,\n",
       "  -0.15124883038800285,\n",
       "  -0.15124883038800285,\n",
       "  -2.0684152285381803,\n",
       "  -2.0684152285381803,\n",
       "  -0.674371061086041,\n",
       "  -0.674371061086041,\n",
       "  -13.512947845291666,\n",
       "  -13.512947845291666,\n",
       "  -7.055545314148483,\n",
       "  -7.055545314148483,\n",
       "  -3.749111827834448,\n",
       "  -3.749111827834448,\n",
       "  -1.926513231437527,\n",
       "  -1.926513231437527,\n",
       "  -0.5147889654411333,\n",
       "  -0.5147889654411333,\n",
       "  -4.750135958863318,\n",
       "  -4.750135958863318],\n",
       " [5.0,\n",
       "  5.0,\n",
       "  6.6665555629620945,\n",
       "  6.6665555629620945,\n",
       "  5.151248830388003,\n",
       "  5.151248830388003,\n",
       "  7.06841522853818,\n",
       "  7.06841522853818,\n",
       "  5.674371061086041,\n",
       "  5.674371061086041,\n",
       "  18.512947845291666,\n",
       "  18.512947845291666,\n",
       "  12.055545314148482,\n",
       "  12.055545314148482,\n",
       "  8.749111827834447,\n",
       "  8.749111827834447,\n",
       "  6.926513231437527,\n",
       "  6.926513231437527,\n",
       "  5.5147889654411335,\n",
       "  5.5147889654411335,\n",
       "  9.750135958863318]]"
      ]
     },
     "execution_count": 31,
     "metadata": {},
     "output_type": "execute_result"
    }
   ],
   "source": [
    "[dan_solver.guess, dan_solver.err]"
   ]
  },
  {
   "cell_type": "code",
   "execution_count": 27,
   "metadata": {},
   "outputs": [],
   "source": [
    "#dan_solver.err\n",
    "\n"
   ]
  },
  {
   "cell_type": "code",
   "execution_count": 28,
   "metadata": {},
   "outputs": [
    {
     "data": {
      "image/png": "[encoded data removed]",
      "text/plain": [
       "<matplotlib.figure.Figure at 0x7f0c41576990>"
      ]
     },
     "metadata": {},
     "output_type": "display_data"
    }
   ],
   "source": [
    "pylab.plot(dan_solver.err)\n",
    "pylab.show()"
   ]
  },
  {
   "cell_type": "code",
   "execution_count": 29,
   "metadata": {},
   "outputs": [
    {
     "data": {
      "image/png": "[encoded data removed]",
      "text/plain": [
       "<matplotlib.figure.Figure at 0x7f0c4150d710>"
      ]
     },
     "metadata": {},
     "output_type": "display_data"
    }
   ],
   "source": [
    "pylab.plot(dan_solver.err[0:15])\n",
    "pylab.show()"
   ]
  },
  {
   "cell_type": "code",
   "execution_count": 30,
   "metadata": {},
   "outputs": [
    {
     "data": {
      "image/png": "[encoded data removed]",
      "text/plain": [
       "<matplotlib.figure.Figure at 0x7f0c41576710>"
      ]
     },
     "metadata": {},
     "output_type": "display_data"
    }
   ],
   "source": [
    "pylab.plot(dan_solver.guess)\n",
    "pylab.show()"
   ]
  },
  {
   "cell_type": "code",
   "execution_count": 37,
   "metadata": {},
   "outputs": [
    {
     "data": {
      "image/png": "[encoded data removed]",
      "text/plain": [
       "<matplotlib.figure.Figure at 0x7f0c415fee90>"
      ]
     },
     "metadata": {},
     "output_type": "display_data"
    }
   ],
   "source": [
    "pylab.plot(dan_solver.guess, label='guess')\n",
    "pylab.plot(dan_solver.err, label='error')\n",
    "pylab.legend()\n",
    "pylab.show()"
   ]
  },
  {
   "cell_type": "code",
   "execution_count": null,
   "metadata": {},
   "outputs": [],
   "source": []
  },
  {
   "cell_type": "code",
   "execution_count": null,
   "metadata": {},
   "outputs": [],
   "source": []
  }
 ],
 "metadata": {
  "kernelspec": {
   "display_name": "Python 3",
   "language": "python",
   "name": "python3"
  },
  "language_info": {
   "codemirror_mode": {
    "name": "ipython",
    "version": 2
   },
   "file_extension": ".py",
   "mimetype": "text/x-python",
   "name": "python",
   "nbconvert_exporter": "python",
   "pygments_lexer": "ipython2",
   "version": "2.7.14"
  }
 },
 "nbformat": 4,
 "nbformat_minor": 2
}
